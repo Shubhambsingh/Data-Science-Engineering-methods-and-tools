{
 "cells": [
  {
   "cell_type": "code",
   "execution_count": 2,
   "id": "cf667645",
   "metadata": {},
   "outputs": [],
   "source": [
    "import numpy as np\n",
    "import pandas as pd"
   ]
  },
  {
   "cell_type": "code",
   "execution_count": 126,
   "id": "cf734432",
   "metadata": {},
   "outputs": [
    {
     "data": {
      "text/plain": [
       "array([[1, 2, 3],\n",
       "       [4, 5, 6]])"
      ]
     },
     "execution_count": 126,
     "metadata": {},
     "output_type": "execute_result"
    }
   ],
   "source": [
    "#question 1.1\n",
    "x = [[1,2,3],[4,5,6]]\n",
    "np.array(x)"
   ]
  },
  {
   "cell_type": "code",
   "execution_count": 11,
   "id": "05866928",
   "metadata": {},
   "outputs": [
    {
     "data": {
      "text/plain": [
       "array([[1, 2],\n",
       "       [3, 4],\n",
       "       [5, 6]])"
      ]
     },
     "execution_count": 11,
     "metadata": {},
     "output_type": "execute_result"
    }
   ],
   "source": [
    "#question 1.2\n",
    "np.arange(1,7).reshape(3,2)"
   ]
  },
  {
   "cell_type": "code",
   "execution_count": 21,
   "id": "043d067b",
   "metadata": {},
   "outputs": [
    {
     "data": {
      "text/plain": [
       "51.0"
      ]
     },
     "execution_count": 21,
     "metadata": {},
     "output_type": "execute_result"
    }
   ],
   "source": [
    "#question 1.3\n",
    "np.arange(2,101,2).mean()"
   ]
  },
  {
   "cell_type": "code",
   "execution_count": 48,
   "id": "2263cc7b",
   "metadata": {},
   "outputs": [
    {
     "data": {
      "text/plain": [
       "(0.10590760718779213, 0.9952995676778876)"
      ]
     },
     "execution_count": 48,
     "metadata": {},
     "output_type": "execute_result"
    }
   ],
   "source": [
    "#question 1.4\n",
    "np.random.random((3,3,3)).min(),np.random.random((3,3,3)).max()\n"
   ]
  },
  {
   "cell_type": "code",
   "execution_count": 39,
   "id": "9642452f",
   "metadata": {},
   "outputs": [
    {
     "data": {
      "text/plain": [
       "array([[10, 11, 12, 13],\n",
       "       [14, 15, 16, 17],\n",
       "       [18, 19, 20, 21]])"
      ]
     },
     "execution_count": 39,
     "metadata": {},
     "output_type": "execute_result"
    }
   ],
   "source": [
    "#question 1.5\n",
    "np.arange(10,22).reshape(3,4)"
   ]
  },
  {
   "cell_type": "code",
   "execution_count": 36,
   "id": "9d944ee9",
   "metadata": {},
   "outputs": [
    {
     "data": {
      "text/plain": [
       "array([ 5,  8, 11, 14, 17, 20, 23, 26, 29, 32])"
      ]
     },
     "execution_count": 36,
     "metadata": {},
     "output_type": "execute_result"
    }
   ],
   "source": [
    "#question 1.6\n",
    "np.arange(5,35,3)"
   ]
  },
  {
   "cell_type": "code",
   "execution_count": 26,
   "id": "8590119f",
   "metadata": {},
   "outputs": [
    {
     "data": {
      "text/plain": [
       "400"
      ]
     },
     "execution_count": 26,
     "metadata": {},
     "output_type": "execute_result"
    }
   ],
   "source": [
    "#question 1.7\n",
    "np.random.randint(10, size=(10, 10)).itemsize*np.random.randint(10, size=(10, 10)).size"
   ]
  },
  {
   "cell_type": "code",
   "execution_count": 76,
   "id": "d0093145",
   "metadata": {},
   "outputs": [
    {
     "data": {
      "text/plain": [
       "(None, array([ 3,  4,  1,  9,  5, 10,  8,  3,  8,  0]))"
      ]
     },
     "execution_count": 76,
     "metadata": {},
     "output_type": "execute_result"
    }
   ],
   "source": [
    "#question 1.8\n",
    "np.random.seed(8),np.random.randint(11,size=10)"
   ]
  },
  {
   "cell_type": "code",
   "execution_count": 86,
   "id": "c34e22ed",
   "metadata": {},
   "outputs": [
    {
     "data": {
      "text/plain": [
       "array([2, 5, 4, 1, 4, 1, 3, 4, 1, 2])"
      ]
     },
     "execution_count": 86,
     "metadata": {},
     "output_type": "execute_result"
    }
   ],
   "source": [
    "np.random.randint(1, [6],size=10)"
   ]
  },
  {
   "cell_type": "code",
   "execution_count": 82,
   "id": "20ce2f22",
   "metadata": {},
   "outputs": [
    {
     "data": {
      "text/plain": [
       "(array([10, 11, 12, 13, 14, 15, 16, 17, 18, 19, 20, 21, 22, 23, 24, 25, 26,\n",
       "        27, 28, 29, 30, 31, 32, 33, 34, 35, 36, 37, 38, 39, 40, 41, 42, 43,\n",
       "        44, 45, 46, 47, 48, 49]),\n",
       " array([49, 48, 47, 46, 45, 44, 43, 42, 41, 40, 39, 38, 37, 36, 35, 34, 33,\n",
       "        32, 31, 30, 29, 28, 27, 26, 25, 24, 23, 22, 21, 20, 19, 18, 17, 16,\n",
       "        15, 14, 13, 12, 11, 10]))"
      ]
     },
     "execution_count": 82,
     "metadata": {},
     "output_type": "execute_result"
    }
   ],
   "source": [
    "#question 1.9\n",
    "np.arange(10,50),np.arange(49,9,-1)"
   ]
  },
  {
   "cell_type": "code",
   "execution_count": 59,
   "id": "d5d0351c",
   "metadata": {},
   "outputs": [
    {
     "data": {
      "text/plain": [
       "array([[0.5488135 , 0.71518937],\n",
       "       [0.60276338, 0.54488318],\n",
       "       [0.4236548 , 0.64589411]])"
      ]
     },
     "execution_count": 59,
     "metadata": {},
     "output_type": "execute_result"
    }
   ],
   "source": [
    "#question 1.10\n",
    "np.random.seed(0)\n",
    "np.random.uniform(0,1,size=((3,2)))"
   ]
  },
  {
   "cell_type": "code",
   "execution_count": 30,
   "id": "4fb5c3d4",
   "metadata": {},
   "outputs": [
    {
     "data": {
      "text/plain": [
       "array([[0., 1., 2., 3., 4.],\n",
       "       [0., 1., 2., 3., 4.],\n",
       "       [0., 1., 2., 3., 4.],\n",
       "       [0., 1., 2., 3., 4.],\n",
       "       [0., 1., 2., 3., 4.]])"
      ]
     },
     "execution_count": 30,
     "metadata": {},
     "output_type": "execute_result"
    }
   ],
   "source": [
    "#question 1.11\n",
    "np.zeros((5,5))+ np.arange(5)"
   ]
  },
  {
   "cell_type": "code",
   "execution_count": 122,
   "id": "9982d682",
   "metadata": {},
   "outputs": [
    {
     "name": "stdout",
     "output_type": "stream",
     "text": [
      "[[1. 1. 1. 1. 1.]\n",
      " [1. 1. 1. 1. 1.]\n",
      " [1. 1. 1. 1. 1.]\n",
      " [1. 1. 1. 1. 1.]\n",
      " [1. 1. 1. 1. 1.]]\n"
     ]
    },
    {
     "data": {
      "text/plain": [
       "array([[0., 0., 0., 0., 0., 0., 0.],\n",
       "       [0., 1., 1., 1., 1., 1., 0.],\n",
       "       [0., 1., 1., 1., 1., 1., 0.],\n",
       "       [0., 1., 1., 1., 1., 1., 0.],\n",
       "       [0., 1., 1., 1., 1., 1., 0.],\n",
       "       [0., 1., 1., 1., 1., 1., 0.],\n",
       "       [0., 0., 0., 0., 0., 0., 0.]])"
      ]
     },
     "execution_count": 122,
     "metadata": {},
     "output_type": "execute_result"
    }
   ],
   "source": [
    "#question 1.12\n",
    "x =np.ones((5,5))\n",
    "print(x)\n",
    "np.pad?\n",
    "np.pad(x,pad_width=1)"
   ]
  },
  {
   "cell_type": "code",
   "execution_count": 54,
   "id": "27f9c458",
   "metadata": {},
   "outputs": [
    {
     "name": "stdout",
     "output_type": "stream",
     "text": [
      "[[1 0 0 0 0]\n",
      " [0 2 0 0 0]\n",
      " [0 0 3 0 0]\n",
      " [0 0 0 4 0]\n",
      " [0 0 0 0 5]]\n",
      "[[0 0 0 0 0]\n",
      " [1 0 0 0 0]\n",
      " [0 2 0 0 0]\n",
      " [0 0 3 0 0]\n",
      " [0 0 0 4 0]]\n"
     ]
    }
   ],
   "source": [
    "#question 1.13\n",
    "x=np.diag([1,2,3,4,5])\n",
    "print(x)\n",
    "y=np.diag(x)\n",
    "z=np.diag(y,k=-1)\n",
    "a,b=np.hsplit(z,[5])\n",
    "d,e=np.vsplit(a,[5])\n",
    "print(d)"
   ]
  },
  {
   "cell_type": "code",
   "execution_count": 124,
   "id": "06747e65",
   "metadata": {},
   "outputs": [
    {
     "name": "stdout",
     "output_type": "stream",
     "text": [
      "[[0. 0. 0. 0. 0. 0. 0. 0.]\n",
      " [0. 0. 0. 0. 0. 0. 0. 0.]\n",
      " [0. 0. 0. 0. 0. 0. 0. 0.]\n",
      " [0. 0. 0. 0. 0. 0. 0. 0.]\n",
      " [0. 0. 0. 0. 0. 0. 0. 0.]\n",
      " [0. 0. 0. 0. 0. 0. 0. 0.]\n",
      " [0. 0. 0. 0. 0. 0. 0. 0.]\n",
      " [0. 0. 0. 0. 0. 0. 0. 0.]]\n"
     ]
    },
    {
     "data": {
      "text/plain": [
       "array([[1., 1., 1., 1., 1., 1., 1., 1., 1., 1.],\n",
       "       [1., 0., 0., 0., 0., 0., 0., 0., 0., 1.],\n",
       "       [1., 0., 0., 0., 0., 0., 0., 0., 0., 1.],\n",
       "       [1., 0., 0., 0., 0., 0., 0., 0., 0., 1.],\n",
       "       [1., 0., 0., 0., 0., 0., 0., 0., 0., 1.],\n",
       "       [1., 0., 0., 0., 0., 0., 0., 0., 0., 1.],\n",
       "       [1., 0., 0., 0., 0., 0., 0., 0., 0., 1.],\n",
       "       [1., 0., 0., 0., 0., 0., 0., 0., 0., 1.],\n",
       "       [1., 0., 0., 0., 0., 0., 0., 0., 0., 1.],\n",
       "       [1., 1., 1., 1., 1., 1., 1., 1., 1., 1.]])"
      ]
     },
     "execution_count": 124,
     "metadata": {},
     "output_type": "execute_result"
    }
   ],
   "source": [
    "#question 1.14\n",
    "x =np.zeros((8,8))\n",
    "print(x)\n",
    "np.pad?\n",
    "np.pad(x,pad_width=1,constant_values=1)"
   ]
  },
  {
   "cell_type": "code",
   "execution_count": 13,
   "id": "e31f735b",
   "metadata": {},
   "outputs": [
    {
     "name": "stdout",
     "output_type": "stream",
     "text": [
      "[10.97627008 14.30378733 12.05526752 10.89766366  8.47309599 12.91788226\n",
      "  8.75174423 17.83546002 19.27325521  7.66883038 15.83450076 10.5778984\n",
      " 11.36089122 18.51193277  1.42072116  1.74258599  0.40436795 16.65239691\n",
      " 15.56313502 17.40024296]\n"
     ]
    },
    {
     "data": {
      "text/plain": [
       "array([10, 14, 12, 10,  8, 12,  8, 17, 19,  7, 15, 10, 11, 18,  1,  1,  0,\n",
       "       16, 15, 17])"
      ]
     },
     "execution_count": 13,
     "metadata": {},
     "output_type": "execute_result"
    }
   ],
   "source": [
    "#question 1.15\n",
    "np.random.seed(0)\n",
    "x=np.random.uniform(0,20,20)\n",
    "print(x)\n",
    "a=x.astype(int)\n",
    "a"
   ]
  },
  {
   "cell_type": "code",
   "execution_count": 63,
   "id": "d060fbc3",
   "metadata": {},
   "outputs": [
    {
     "name": "stdout",
     "output_type": "stream",
     "text": [
      "(array([ 0,  2,  3,  7,  8, 10, 11], dtype=int64),)\n",
      "8\n"
     ]
    }
   ],
   "source": [
    "#question 2.1\n",
    "x=np.array([1, 2, 1, 1, 3, 4, 3, 1, 1, 2, 1, 1, 2])\n",
    "a=np.where(x==1)\n",
    "c=0\n",
    "for i in a[0]:\n",
    "    c=c+1\n",
    "    if(c==5):\n",
    "        print(i)\n"
   ]
  },
  {
   "cell_type": "code",
   "execution_count": 87,
   "id": "498b6f32",
   "metadata": {},
   "outputs": [
    {
     "name": "stdout",
     "output_type": "stream",
     "text": [
      "[1 2 3 4]\n",
      "[5 6]\n",
      "[7 8 9]\n"
     ]
    }
   ],
   "source": [
    "#question2.2\n",
    "x=np.arange(1,10)\n",
    "a,b,c=np.split(x,[4,6])\n",
    "print(a)\n",
    "print(b)\n",
    "print(c)"
   ]
  },
  {
   "cell_type": "code",
   "execution_count": 86,
   "id": "7fff2a43",
   "metadata": {},
   "outputs": [
    {
     "name": "stdout",
     "output_type": "stream",
     "text": [
      "[[ 0.  1.  2.  3.]\n",
      " [ 4.  5.  6.  7.]\n",
      " [ 8.  9. 10. 11.]\n",
      " [12. 13. 14. 15.]]\n",
      "[[ 0.  1.]\n",
      " [ 4.  5.]\n",
      " [ 8.  9.]\n",
      " [12. 13.]] [[ 2.  3.]\n",
      " [ 6.  7.]\n",
      " [10. 11.]\n",
      " [14. 15.]]\n"
     ]
    }
   ],
   "source": [
    "#question2.3\n",
    "x = np.arange(16.).reshape((4,4))\n",
    "print(x)\n",
    "a,b=np.split(x,[2],axis=1)\n",
    "print(abs(a),abs(b))"
   ]
  },
  {
   "cell_type": "code",
   "execution_count": 19,
   "id": "e1cfb5b7",
   "metadata": {},
   "outputs": [
    {
     "name": "stdout",
     "output_type": "stream",
     "text": [
      "[[10 15]\n",
      " [25 30]]\n",
      "[[20]]\n"
     ]
    }
   ],
   "source": [
    "#question 2.4\n",
    "x = np.array([[5,10,15],\n",
    "\n",
    " [20,25,30],\n",
    "\n",
    " [35,40,45]]\n",
    ")\n",
    "x\n",
    "a,b=np.hsplit(x,[1])\n",
    "c,d=np.vsplit(b,[2])\n",
    "print(c)\n",
    "p,q,r=np.vsplit(a,[1,2])\n",
    "print(q)"
   ]
  },
  {
   "cell_type": "code",
   "execution_count": 28,
   "id": "274155ae",
   "metadata": {},
   "outputs": [
    {
     "data": {
      "text/plain": [
       "array([[ 1,  2,  3,  7,  8,  9],\n",
       "       [ 4,  5,  6, 10, 11, 12]])"
      ]
     },
     "execution_count": 28,
     "metadata": {},
     "output_type": "execute_result"
    }
   ],
   "source": [
    "#question 2.5\n",
    "x = np.array([[ 1,2,3],[ 4,5,6]])\n",
    "y = np.array([[ 7,8,9],[10,11,12]])\n",
    "np.concatenate([x,y],axis=1)"
   ]
  },
  {
   "cell_type": "code",
   "execution_count": 45,
   "id": "d3a26b06",
   "metadata": {},
   "outputs": [
    {
     "name": "stdout",
     "output_type": "stream",
     "text": [
      "[[ 5  0  3]\n",
      " [ 3  7  9]\n",
      " [ 3  5  2]\n",
      " [ 4  7  6]\n",
      " [ 8  8 10]]\n",
      "0.0\n",
      "0.3333333333333333\n",
      "0.4\n",
      "0.5714285714285714\n",
      "0.8\n"
     ]
    }
   ],
   "source": [
    "#question 2.6\n",
    "np.random.seed(0)\n",
    "arr=np.random.randint(11,size=(5,3))\n",
    "print(arr)\n",
    "i=0\n",
    "for i in arr:\n",
    "    a,arr=np.vsplit(arr,[1])\n",
    "    print(np.min(a)/np.max(a))\n",
    "    i=i+1"
   ]
  },
  {
   "cell_type": "code",
   "execution_count": 69,
   "id": "f49f044d",
   "metadata": {},
   "outputs": [
    {
     "name": "stdout",
     "output_type": "stream",
     "text": [
      "before normalization:\n",
      "[[0.78364425 0.5000263  0.05037006 0.69909807 0.9923964 ]\n",
      " [0.26726254 0.67909062 0.86428144 0.75084425 0.96448977]\n",
      " [0.55424244 0.2123905  0.22244322 0.21874937 0.56957353]\n",
      " [0.45210904 0.97023668 0.68054469 0.08529557 0.05641833]\n",
      " [0.4878377  0.88100456 0.97640439 0.61765792 0.54249878]]\n",
      "after normalization\n",
      "[[0.77840094 0.47732873 0.         0.68865167 1.        ]\n",
      " [0.23024036 0.66741293 0.86400066 0.74358238 0.97037595]\n",
      " [0.53488141 0.17199141 0.1826628  0.17874162 0.55115601]\n",
      " [0.42646257 0.97647654 0.66895649 0.03707488 0.0064205 ]\n",
      " [0.46439004 0.88175295 0.98302382 0.60219957 0.52241503]]\n"
     ]
    }
   ],
   "source": [
    "#question2.7\n",
    "x=np.random.random((5,5))\n",
    "print(\"before normalization:\")\n",
    "print(x)\n",
    "maxi,mini=x.max(),x.min()\n",
    "x=(x-mini)/(maxi-mini)\n",
    "print(\"after normalization\")\n",
    "print(x)"
   ]
  },
  {
   "cell_type": "code",
   "execution_count": 72,
   "id": "c07d11f1",
   "metadata": {},
   "outputs": [
    {
     "name": "stdout",
     "output_type": "stream",
     "text": [
      "[0 1 2] [3 4 5 6] [7 8]\n"
     ]
    },
    {
     "data": {
      "text/plain": [
       "array([0, 1, 2, 3, 4, 5, 6, 7, 8])"
      ]
     },
     "execution_count": 72,
     "metadata": {},
     "output_type": "execute_result"
    }
   ],
   "source": [
    "#question2.8\n",
    "x=np.arange(3)\n",
    "y=np.arange(3,7)\n",
    "z=np.arange(7,9)\n",
    "print(x,y,z)\n",
    "np.concatenate([x,y,z])"
   ]
  },
  {
   "cell_type": "code",
   "execution_count": 37,
   "id": "a95b56c8",
   "metadata": {},
   "outputs": [
    {
     "name": "stdout",
     "output_type": "stream",
     "text": [
      "[44 47 64 67 67  9 83 21 36 87 70 88 88 12 58 65 39 87 46 88]\n"
     ]
    },
    {
     "ename": "IndexError",
     "evalue": "index 7 is out of bounds for axis 0 with size 1",
     "output_type": "error",
     "traceback": [
      "\u001b[1;31m---------------------------------------------------------------------------\u001b[0m",
      "\u001b[1;31mIndexError\u001b[0m                                Traceback (most recent call last)",
      "Input \u001b[1;32mIn [37]\u001b[0m, in \u001b[0;36m<cell line: 5>\u001b[1;34m()\u001b[0m\n\u001b[0;32m      5\u001b[0m \u001b[38;5;28;01mfor\u001b[39;00m i \u001b[38;5;129;01min\u001b[39;00m \u001b[38;5;28mrange\u001b[39m(x\u001b[38;5;241m.\u001b[39msize):\n\u001b[0;32m      6\u001b[0m     \u001b[38;5;28;01mif\u001b[39;00m(x[i]\u001b[38;5;241m>\u001b[39m\u001b[38;5;241m=\u001b[39m\u001b[38;5;241m15\u001b[39m \u001b[38;5;129;01mand\u001b[39;00m x[i]\u001b[38;5;241m<\u001b[39m\u001b[38;5;241m=\u001b[39m\u001b[38;5;241m55\u001b[39m):\n\u001b[1;32m----> 7\u001b[0m         a\u001b[38;5;241m=\u001b[39m\u001b[43mnp\u001b[49m\u001b[38;5;241;43m.\u001b[39;49m\u001b[43minsert\u001b[49m\u001b[43m(\u001b[49m\u001b[43ma\u001b[49m\u001b[43m,\u001b[49m\u001b[43mi\u001b[49m\u001b[43m,\u001b[49m\u001b[43mx\u001b[49m\u001b[43m[\u001b[49m\u001b[43mi\u001b[49m\u001b[43m]\u001b[49m\u001b[43m)\u001b[49m\n\u001b[0;32m      8\u001b[0m \u001b[38;5;28mprint\u001b[39m(a)\n",
      "File \u001b[1;32m<__array_function__ internals>:5\u001b[0m, in \u001b[0;36minsert\u001b[1;34m(*args, **kwargs)\u001b[0m\n",
      "File \u001b[1;32m~\\anaconda3\\lib\\site-packages\\numpy\\lib\\function_base.py:4704\u001b[0m, in \u001b[0;36minsert\u001b[1;34m(arr, obj, values, axis)\u001b[0m\n\u001b[0;32m   4702\u001b[0m index \u001b[38;5;241m=\u001b[39m indices\u001b[38;5;241m.\u001b[39mitem()\n\u001b[0;32m   4703\u001b[0m \u001b[38;5;28;01mif\u001b[39;00m index \u001b[38;5;241m<\u001b[39m \u001b[38;5;241m-\u001b[39mN \u001b[38;5;129;01mor\u001b[39;00m index \u001b[38;5;241m>\u001b[39m N:\n\u001b[1;32m-> 4704\u001b[0m     \u001b[38;5;28;01mraise\u001b[39;00m \u001b[38;5;167;01mIndexError\u001b[39;00m(\n\u001b[0;32m   4705\u001b[0m         \u001b[38;5;124m\"\u001b[39m\u001b[38;5;124mindex \u001b[39m\u001b[38;5;132;01m%i\u001b[39;00m\u001b[38;5;124m is out of bounds for axis \u001b[39m\u001b[38;5;132;01m%i\u001b[39;00m\u001b[38;5;124m with \u001b[39m\u001b[38;5;124m\"\u001b[39m\n\u001b[0;32m   4706\u001b[0m         \u001b[38;5;124m\"\u001b[39m\u001b[38;5;124msize \u001b[39m\u001b[38;5;132;01m%i\u001b[39;00m\u001b[38;5;124m\"\u001b[39m \u001b[38;5;241m%\u001b[39m (obj, axis, N))\n\u001b[0;32m   4707\u001b[0m \u001b[38;5;28;01mif\u001b[39;00m (index \u001b[38;5;241m<\u001b[39m \u001b[38;5;241m0\u001b[39m):\n\u001b[0;32m   4708\u001b[0m     index \u001b[38;5;241m+\u001b[39m\u001b[38;5;241m=\u001b[39m N\n",
      "\u001b[1;31mIndexError\u001b[0m: index 7 is out of bounds for axis 0 with size 1"
     ]
    }
   ],
   "source": [
    "#question2.9\n",
    "np.random.seed(0)\n",
    "x=np.random.randint(0,100,20)\n",
    "print(x)\n",
    "for i in range(x.size):\n",
    "    if(x[i]>=15 and x[i]<=55):\n",
    "        a=np.insert(a,,x[i])\n",
    "print(a)"
   ]
  },
  {
   "cell_type": "code",
   "execution_count": 6,
   "id": "c24387ae",
   "metadata": {},
   "outputs": [
    {
     "name": "stdout",
     "output_type": "stream",
     "text": [
      "[1 3 5 7]\n"
     ]
    }
   ],
   "source": [
    "#question2.10\n",
    "a = np.array([1,2,3,2,3,4,3,4,5,6])\n",
    "\n",
    "b = np.array([7,2,10,2,7,4,9,4,9,8])\n",
    "\n",
    "c=np.where(a==b)\n",
    "print(c[0])"
   ]
  },
  {
   "cell_type": "code",
   "execution_count": 10,
   "id": "55bde70a",
   "metadata": {},
   "outputs": [
    {
     "data": {
      "text/plain": [
       "array([ 0, -1,  2, -1,  4, -1,  6, -1,  8, -1, 10, -1, 12, -1, 14, -1, 16,\n",
       "       -1, 18, -1])"
      ]
     },
     "execution_count": 10,
     "metadata": {},
     "output_type": "execute_result"
    }
   ],
   "source": [
    "#question2.11\n",
    "x=np.arange(20)\n",
    "x\n",
    "for i in range(x.size):\n",
    "    if (x[i]%2!=0):\n",
    "        x[i]=-1\n",
    "x"
   ]
  },
  {
   "cell_type": "code",
   "execution_count": 8,
   "id": "144f7459",
   "metadata": {},
   "outputs": [
    {
     "data": {
      "text/plain": [
       "array([[65, 56, 57, 58],\n",
       "       [48, 33, 48, 53],\n",
       "       [57, 47, 43, 59]])"
      ]
     },
     "execution_count": 8,
     "metadata": {},
     "output_type": "execute_result"
    }
   ],
   "source": [
    "#question 2.12\n",
    "x=np.random.randint(10,size=((3,4,3,4)))\n",
    "x.sum(axis=3).sum(axis=2)"
   ]
  },
  {
   "cell_type": "code",
   "execution_count": null,
   "id": "054fc2e1",
   "metadata": {},
   "outputs": [],
   "source": []
  }
 ],
 "metadata": {
  "kernelspec": {
   "display_name": "Python 3 (ipykernel)",
   "language": "python",
   "name": "python3"
  },
  "language_info": {
   "codemirror_mode": {
    "name": "ipython",
    "version": 3
   },
   "file_extension": ".py",
   "mimetype": "text/x-python",
   "name": "python",
   "nbconvert_exporter": "python",
   "pygments_lexer": "ipython3",
   "version": "3.9.12"
  }
 },
 "nbformat": 4,
 "nbformat_minor": 5
}
