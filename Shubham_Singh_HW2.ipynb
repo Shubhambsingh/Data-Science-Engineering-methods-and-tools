{
 "cells": [
  {
   "cell_type": "code",
   "execution_count": 2,
   "id": "8bc0d23f-1ffe-4ce2-9e15-2ad856926143",
   "metadata": {},
   "outputs": [],
   "source": [
    "# Homw Work 2-- Shubham Singh, 002762502"
   ]
  },
  {
   "cell_type": "code",
   "execution_count": 3,
   "id": "303d9c86-fa91-44fa-90a9-9d317c053d54",
   "metadata": {},
   "outputs": [],
   "source": [
    "import numpy as np\n",
    "import pandas as pd"
   ]
  },
  {
   "cell_type": "code",
   "execution_count": 5,
   "id": "6c287dd7",
   "metadata": {},
   "outputs": [
    {
     "name": "stdout",
     "output_type": "stream",
     "text": [
      "Three random values are : [1 5 4]\n",
      "[[0. 6. 0. 0. 6. 6. 0. 0. 0. 0.]\n",
      " [0. 0. 0. 0. 0. 0. 0. 0. 0. 0.]\n",
      " [0. 0. 0. 0. 0. 0. 0. 0. 0. 0.]\n",
      " [0. 0. 0. 0. 0. 0. 0. 0. 0. 0.]\n",
      " [0. 0. 0. 0. 0. 0. 0. 0. 0. 0.]\n",
      " [0. 0. 0. 0. 0. 0. 0. 0. 0. 0.]\n",
      " [0. 0. 0. 0. 0. 0. 0. 0. 0. 0.]\n",
      " [0. 0. 0. 0. 0. 0. 0. 0. 0. 0.]\n",
      " [0. 0. 0. 0. 0. 0. 0. 0. 0. 0.]\n",
      " [0. 0. 0. 0. 0. 0. 0. 0. 0. 0.]]\n"
     ]
    }
   ],
   "source": [
    "#1 - 1)\n",
    "#Put 3 random numbers (which can be same value, like 6) to a 2D 10x10 zero array in random positions.  \n",
    "\n",
    "np.random.seed(10)\n",
    "num = np.random.choice(6,3)\n",
    "print(\"Three random values are :\" , num)\n",
    "num2 = np.zeros((10,10))\n",
    "np.put(num2,num,[6,6,6],mode='raise')\n",
    "print (num2)"
   ]
  },
  {
   "cell_type": "code",
   "execution_count": 10,
   "id": "3b8b9c90",
   "metadata": {},
   "outputs": [
    {
     "name": "stdout",
     "output_type": "stream",
     "text": [
      "The Desired Matrix is :\n",
      " [[0. 1. 0. 1.]\n",
      " [1. 0. 1. 0.]\n",
      " [0. 1. 0. 1.]\n",
      " [1. 0. 1. 0.]]\n"
     ]
    }
   ],
   "source": [
    "#1 - 2)\n",
    "#Create an 4x4 matrix in which 0 and 1 are staggered, with zeros on the main diagonal. Please use the numpy indexing and slicing approaches to implement\n",
    "\n",
    "arr_zero=np.zeros((4,4))\n",
    "arr_zero[::2, 1::2] = 1\n",
    "arr_zero[1::2, ::2] = 1\n",
    "print(\"The Desired Matrix is :\\n\", arr_zero)"
   ]
  },
  {
   "cell_type": "code",
   "execution_count": 53,
   "id": "993d5c71",
   "metadata": {},
   "outputs": [
    {
     "data": {
      "text/plain": [
       "array([[ 1,  2,  3,  4,  5,  6],\n",
       "       [ 2,  4,  6,  8, 10, 12],\n",
       "       [ 3,  6,  9, 12, 15, 18],\n",
       "       [ 4,  8, 12, 16, 20, 24],\n",
       "       [ 5, 10, 15, 20, 25, 30],\n",
       "       [ 6, 12, 18, 24, 30, 36]])"
      ]
     },
     "execution_count": 53,
     "metadata": {},
     "output_type": "execute_result"
    }
   ],
   "source": [
    "#1 - 3.1)\n",
    "#Write a 6x6 matrix for multiplication table:\n",
    "#by using numpy broadcasting     \n",
    "\n",
    "Array1 = np.zeros((6,6))\n",
    "Array1 = Array1 +np.arange(1,7)\n",
    "Array2 = np.arange(1,7).reshape(6,1)\n",
    "Result_array = Array1*Array2\n",
    "Result_array.astype(int)       "
   ]
  },
  {
   "cell_type": "code",
   "execution_count": 58,
   "id": "8f41b50c",
   "metadata": {},
   "outputs": [
    {
     "data": {
      "text/plain": [
       "array([[ 1,  2,  3,  4,  5,  6],\n",
       "       [ 2,  4,  6,  8, 10, 12],\n",
       "       [ 3,  6,  9, 12, 15, 18],\n",
       "       [ 4,  8, 12, 16, 20, 24],\n",
       "       [ 5, 10, 15, 20, 25, 30],\n",
       "       [ 6, 12, 18, 24, 30, 36]])"
      ]
     },
     "execution_count": 58,
     "metadata": {},
     "output_type": "execute_result"
    }
   ],
   "source": [
    "#1 - 3.2)\n",
    "#by using Python nested for-loop\n",
    "\n",
    "for m in range(0,6):\n",
    "    for n in range(0,6):\n",
    "        Array1[m][n]=(m+1)*(n+1)\n",
    "Array1.astype(int)"
   ]
  },
  {
   "cell_type": "code",
   "execution_count": 16,
   "id": "ade30cdd",
   "metadata": {},
   "outputs": [
    {
     "name": "stdout",
     "output_type": "stream",
     "text": [
      "The first 5 rows are \n",
      "     0\n",
      "a  86\n",
      "b  23\n",
      "c  12\n",
      "d  13\n",
      "e  93\n"
     ]
    }
   ],
   "source": [
    "#2 -1)\n",
    "#Convert the list of 26 letters of the alphabet to the index of the Dataframe, and assign 26 random integer numbers Print out the first 5 rows.   \n",
    "\n",
    "\n",
    "dataf = pd.DataFrame(np.random.randint(1,100,26),index=list('abcdefghijklmnopqrstuvwxyz'))\n",
    "alphabet_arr=dataf.head(5)\n",
    "print('The first 5 rows are \\n', alphabet_arr)"
   ]
  },
  {
   "cell_type": "code",
   "execution_count": 60,
   "id": "7ec74ce3",
   "metadata": {},
   "outputs": [
    {
     "name": "stdout",
     "output_type": "stream",
     "text": [
      "\n",
      "DataFrame :\n",
      "    class 1  class 2  class 3\n",
      "0        1        4        7\n",
      "1        2        5        5\n",
      "2        3        6        8\n",
      "3        4        9       12\n",
      "4        7        5        1\n",
      "5       11        0       11\n",
      "\n",
      "\n",
      "The First Column as Series is \n",
      " class 1  0     1\n",
      "         1     2\n",
      "         2     3\n",
      "         3     4\n",
      "         4     7\n",
      "         5    11\n",
      "dtype: int64 \n",
      "The Data Type is \n",
      " <class 'pandas.core.series.Series'>\n"
     ]
    }
   ],
   "source": [
    "#2  -2)\n",
    "#Construct the following DataFrame and print it out. Use \"iloc\" to convert the first column of this DataFrame as a Series. 4 points\n",
    "\n",
    "df2 = pd.DataFrame({'class 1':[1,2,3,4,7,11],'class 2':[4,5,6,9,5,0],'class 3':[7,5,8,12,1,11]})\n",
    "print('\\nDataFrame :\\n',df2)\n",
    "first_col= (df2.iloc[: , 0:1]).unstack()\n",
    "print('\\n\\nThe First Column as Series is \\n',first_col,'\\nThe Data Type is \\n',type(first_col))"
   ]
  },
  {
   "cell_type": "code",
   "execution_count": 28,
   "id": "94c7ce1e",
   "metadata": {},
   "outputs": [
    {
     "data": {
      "text/html": [
       "<div>\n",
       "<style scoped>\n",
       "    .dataframe tbody tr th:only-of-type {\n",
       "        vertical-align: middle;\n",
       "    }\n",
       "\n",
       "    .dataframe tbody tr th {\n",
       "        vertical-align: top;\n",
       "    }\n",
       "\n",
       "    .dataframe thead th {\n",
       "        text-align: right;\n",
       "    }\n",
       "</style>\n",
       "<table border=\"1\" class=\"dataframe\">\n",
       "  <thead>\n",
       "    <tr style=\"text-align: right;\">\n",
       "      <th></th>\n",
       "      <th>class 1</th>\n",
       "      <th>class 2</th>\n",
       "    </tr>\n",
       "  </thead>\n",
       "  <tbody>\n",
       "    <tr>\n",
       "      <th>0</th>\n",
       "      <td>1</td>\n",
       "      <td>4</td>\n",
       "    </tr>\n",
       "    <tr>\n",
       "      <th>1</th>\n",
       "      <td>2</td>\n",
       "      <td>5</td>\n",
       "    </tr>\n",
       "    <tr>\n",
       "      <th>2</th>\n",
       "      <td>3</td>\n",
       "      <td>6</td>\n",
       "    </tr>\n",
       "    <tr>\n",
       "      <th>3</th>\n",
       "      <td>4</td>\n",
       "      <td>9</td>\n",
       "    </tr>\n",
       "    <tr>\n",
       "      <th>4</th>\n",
       "      <td>7</td>\n",
       "      <td>5</td>\n",
       "    </tr>\n",
       "    <tr>\n",
       "      <th>5</th>\n",
       "      <td>11</td>\n",
       "      <td>0</td>\n",
       "    </tr>\n",
       "  </tbody>\n",
       "</table>\n",
       "</div>"
      ],
      "text/plain": [
       "   class 1  class 2\n",
       "0        1        4\n",
       "1        2        5\n",
       "2        3        6\n",
       "3        4        9\n",
       "4        7        5\n",
       "5       11        0"
      ]
     },
     "execution_count": 28,
     "metadata": {},
     "output_type": "execute_result"
    }
   ],
   "source": [
    "#2 --3.1) \n",
    "#Select all columns, except one given column 'class3', and print out the result.\n",
    "\n",
    "df2.iloc[:,0:2] #not Printing it out seperately as it changing the format"
   ]
  },
  {
   "cell_type": "code",
   "execution_count": 29,
   "id": "f0dd4a25",
   "metadata": {},
   "outputs": [
    {
     "data": {
      "text/html": [
       "<div>\n",
       "<style scoped>\n",
       "    .dataframe tbody tr th:only-of-type {\n",
       "        vertical-align: middle;\n",
       "    }\n",
       "\n",
       "    .dataframe tbody tr th {\n",
       "        vertical-align: top;\n",
       "    }\n",
       "\n",
       "    .dataframe thead th {\n",
       "        text-align: right;\n",
       "    }\n",
       "</style>\n",
       "<table border=\"1\" class=\"dataframe\">\n",
       "  <thead>\n",
       "    <tr style=\"text-align: right;\">\n",
       "      <th></th>\n",
       "      <th>class 1</th>\n",
       "      <th>class 2</th>\n",
       "      <th>class 3</th>\n",
       "    </tr>\n",
       "  </thead>\n",
       "  <tbody>\n",
       "    <tr>\n",
       "      <th>3</th>\n",
       "      <td>4</td>\n",
       "      <td>9</td>\n",
       "      <td>12</td>\n",
       "    </tr>\n",
       "    <tr>\n",
       "      <th>4</th>\n",
       "      <td>7</td>\n",
       "      <td>5</td>\n",
       "      <td>1</td>\n",
       "    </tr>\n",
       "    <tr>\n",
       "      <th>5</th>\n",
       "      <td>11</td>\n",
       "      <td>0</td>\n",
       "      <td>11</td>\n",
       "    </tr>\n",
       "  </tbody>\n",
       "</table>\n",
       "</div>"
      ],
      "text/plain": [
       "   class 1  class 2  class 3\n",
       "3        4        9       12\n",
       "4        7        5        1\n",
       "5       11        0       11"
      ]
     },
     "execution_count": 29,
     "metadata": {},
     "output_type": "execute_result"
    }
   ],
   "source": [
    "#2 --3.2) \n",
    "#Remove first 3 rows of the DataFrame and print it out.\n",
    "\n",
    "df2.iloc[3: , :]  #not Printing it out seperately as it changing the format"
   ]
  },
  {
   "cell_type": "code",
   "execution_count": 30,
   "id": "003b83e3",
   "metadata": {},
   "outputs": [
    {
     "data": {
      "text/html": [
       "<div>\n",
       "<style scoped>\n",
       "    .dataframe tbody tr th:only-of-type {\n",
       "        vertical-align: middle;\n",
       "    }\n",
       "\n",
       "    .dataframe tbody tr th {\n",
       "        vertical-align: top;\n",
       "    }\n",
       "\n",
       "    .dataframe thead th {\n",
       "        text-align: right;\n",
       "    }\n",
       "</style>\n",
       "<table border=\"1\" class=\"dataframe\">\n",
       "  <thead>\n",
       "    <tr style=\"text-align: right;\">\n",
       "      <th></th>\n",
       "      <th>class 1</th>\n",
       "      <th>class 2</th>\n",
       "      <th>class 3</th>\n",
       "    </tr>\n",
       "  </thead>\n",
       "  <tbody>\n",
       "    <tr>\n",
       "      <th>0</th>\n",
       "      <td>1</td>\n",
       "      <td>4</td>\n",
       "      <td>7</td>\n",
       "    </tr>\n",
       "    <tr>\n",
       "      <th>1</th>\n",
       "      <td>2</td>\n",
       "      <td>5</td>\n",
       "      <td>5</td>\n",
       "    </tr>\n",
       "    <tr>\n",
       "      <th>2</th>\n",
       "      <td>3</td>\n",
       "      <td>6</td>\n",
       "      <td>8</td>\n",
       "    </tr>\n",
       "  </tbody>\n",
       "</table>\n",
       "</div>"
      ],
      "text/plain": [
       "   class 1  class 2  class 3\n",
       "0        1        4        7\n",
       "1        2        5        5\n",
       "2        3        6        8"
      ]
     },
     "execution_count": 30,
     "metadata": {},
     "output_type": "execute_result"
    }
   ],
   "source": [
    "#2 --3.2)  \n",
    "#Remove last 3 rows of the DataFrame and print it out.\n",
    "\n",
    "df2.iloc[:3, :]  #not Printing it out seperately as it changing the format"
   ]
  },
  {
   "cell_type": "code",
   "execution_count": 31,
   "id": "07c9c9e0",
   "metadata": {},
   "outputs": [
    {
     "name": "stdout",
     "output_type": "stream",
     "text": [
      "Euclidean Distance is 18.16590212458495\n"
     ]
    }
   ],
   "source": [
    "#2 --4)\n",
    "#Compute the Euclidean distance between two series (points) p1 and p2:        \n",
    "\n",
    "p1 = pd.Series([1, 2, 3, 4, 5, 6, 7, 8, 9, 10])\n",
    "p2 = pd.Series([8, 9, 10, 11, 12, 7, 6, 5, 4, 3])\n",
    "Euc_Dist=((p1-p2)**2).sum()**0.5\n",
    "print('Euclidean Distance is',Euc_Dist)"
   ]
  },
  {
   "cell_type": "code",
   "execution_count": 34,
   "id": "73b080bb",
   "metadata": {},
   "outputs": [
    {
     "name": "stdout",
     "output_type": "stream",
     "text": [
      "DataFrame is:\n",
      "     p   q   r   s\n",
      "a  52  93  15  72\n",
      "b  61  21  83  87\n",
      "c  75  75  88  24\n",
      "d   3  22  53   2\n",
      "e  88  30  38   2\n",
      "f  64  60  21  33\n",
      "g  76  58  22  89\n",
      "h  49  91  59  42\n",
      "i  92  60  80  15\n",
      "j  62  62  47  62\n"
     ]
    },
    {
     "data": {
      "text/html": [
       "<div>\n",
       "<style scoped>\n",
       "    .dataframe tbody tr th:only-of-type {\n",
       "        vertical-align: middle;\n",
       "    }\n",
       "\n",
       "    .dataframe tbody tr th {\n",
       "        vertical-align: top;\n",
       "    }\n",
       "\n",
       "    .dataframe thead th {\n",
       "        text-align: right;\n",
       "    }\n",
       "</style>\n",
       "<table border=\"1\" class=\"dataframe\">\n",
       "  <thead>\n",
       "    <tr style=\"text-align: right;\">\n",
       "      <th></th>\n",
       "      <th>p</th>\n",
       "      <th>q</th>\n",
       "      <th>r</th>\n",
       "      <th>s</th>\n",
       "      <th>New_Row</th>\n",
       "      <th>Distance</th>\n",
       "    </tr>\n",
       "  </thead>\n",
       "  <tbody>\n",
       "    <tr>\n",
       "      <th>a</th>\n",
       "      <td>52</td>\n",
       "      <td>93</td>\n",
       "      <td>15</td>\n",
       "      <td>72</td>\n",
       "      <td>d</td>\n",
       "      <td>117</td>\n",
       "    </tr>\n",
       "    <tr>\n",
       "      <th>b</th>\n",
       "      <td>61</td>\n",
       "      <td>21</td>\n",
       "      <td>83</td>\n",
       "      <td>87</td>\n",
       "      <td>d</td>\n",
       "      <td>107</td>\n",
       "    </tr>\n",
       "    <tr>\n",
       "      <th>c</th>\n",
       "      <td>75</td>\n",
       "      <td>75</td>\n",
       "      <td>88</td>\n",
       "      <td>24</td>\n",
       "      <td>d</td>\n",
       "      <td>98</td>\n",
       "    </tr>\n",
       "    <tr>\n",
       "      <th>d</th>\n",
       "      <td>3</td>\n",
       "      <td>22</td>\n",
       "      <td>53</td>\n",
       "      <td>2</td>\n",
       "      <td>g</td>\n",
       "      <td>123</td>\n",
       "    </tr>\n",
       "    <tr>\n",
       "      <th>e</th>\n",
       "      <td>88</td>\n",
       "      <td>30</td>\n",
       "      <td>38</td>\n",
       "      <td>2</td>\n",
       "      <td>a</td>\n",
       "      <td>103</td>\n",
       "    </tr>\n",
       "    <tr>\n",
       "      <th>f</th>\n",
       "      <td>64</td>\n",
       "      <td>60</td>\n",
       "      <td>21</td>\n",
       "      <td>33</td>\n",
       "      <td>b</td>\n",
       "      <td>91</td>\n",
       "    </tr>\n",
       "    <tr>\n",
       "      <th>g</th>\n",
       "      <td>76</td>\n",
       "      <td>58</td>\n",
       "      <td>22</td>\n",
       "      <td>89</td>\n",
       "      <td>d</td>\n",
       "      <td>123</td>\n",
       "    </tr>\n",
       "    <tr>\n",
       "      <th>h</th>\n",
       "      <td>49</td>\n",
       "      <td>91</td>\n",
       "      <td>59</td>\n",
       "      <td>42</td>\n",
       "      <td>d</td>\n",
       "      <td>92</td>\n",
       "    </tr>\n",
       "    <tr>\n",
       "      <th>i</th>\n",
       "      <td>92</td>\n",
       "      <td>60</td>\n",
       "      <td>80</td>\n",
       "      <td>15</td>\n",
       "      <td>a</td>\n",
       "      <td>101</td>\n",
       "    </tr>\n",
       "    <tr>\n",
       "      <th>j</th>\n",
       "      <td>62</td>\n",
       "      <td>62</td>\n",
       "      <td>47</td>\n",
       "      <td>62</td>\n",
       "      <td>d</td>\n",
       "      <td>93</td>\n",
       "    </tr>\n",
       "  </tbody>\n",
       "</table>\n",
       "</div>"
      ],
      "text/plain": [
       "    p   q   r   s New_Row  Distance\n",
       "a  52  93  15  72       d       117\n",
       "b  61  21  83  87       d       107\n",
       "c  75  75  88  24       d        98\n",
       "d   3  22  53   2       g       123\n",
       "e  88  30  38   2       a       103\n",
       "f  64  60  21  33       b        91\n",
       "g  76  58  22  89       d       123\n",
       "h  49  91  59  42       d        92\n",
       "i  92  60  80  15       a       101\n",
       "j  62  62  47  62       d        93"
      ]
     },
     "execution_count": 34,
     "metadata": {},
     "output_type": "execute_result"
    }
   ],
   "source": [
    "#2 --5.1)\n",
    "#Create a DataFrame df: the name of 4 columns is pqrs respectively, the name of 10 indexes is abcdefghij respectively. The values are randomly distributed in [1,100) and the seed is set as 42\n",
    "\n",
    "np.random.seed(42)\n",
    "df = pd.DataFrame(np.random.randint(1,100,size=(10,4)), columns=list('pqrs'), index=list('abcdefghij'))\n",
    "print('DataFrame is:\\n',df)\n",
    "\n",
    "#2 --5.2) \n",
    "#Create a new column such that, each row of this df contains the row number of nearest row-record by Euclidean distance.\n",
    "\n",
    "nearest_rows = []\n",
    "nearest_distance = []\n",
    "\n",
    "for i, row in df.iterrows():\n",
    "    curr = row\n",
    "    rest = df.drop(i)\n",
    "    eu_dists = {} \n",
    "    for j, contestant in rest.iterrows():\n",
    "        eu_dists.update({j: round(np.linalg.norm(curr.values - contestant.values))})\n",
    "    \n",
    "    nearest_rows.append(max(eu_dists, key=eu_dists.get))\n",
    "    nearest_distance.append(max(eu_dists.values()))\n",
    "\n",
    "df['New_Row'] = nearest_rows\n",
    "df['Distance'] = nearest_distance\n",
    "df"
   ]
  },
  {
   "cell_type": "code",
   "execution_count": 37,
   "id": "cfd9bd78",
   "metadata": {},
   "outputs": [
    {
     "name": "stdout",
     "output_type": "stream",
     "text": [
      "[[ 0  1  2  3]\n",
      " [ 2  3  4  5]\n",
      " [ 4  5  6  7]\n",
      " [ 6  7  8  9]\n",
      " [ 8  9 10 11]\n",
      " [10 11 12 13]]\n"
     ]
    }
   ],
   "source": [
    "#2 --6)\n",
    "#Create a DataFrame with rows as strides from a given series : L=pd.Series(range(15))\n",
    "Seri = pd.Series(range(15))\n",
    "def strides_func(a,slen=5 , wlen=5):\n",
    "    n= ((a.size-wlen)//slen)+1\n",
    "    return np.array([a[s:(s+wlen)] for s in np.arange(0,a.size,slen)[:n]])\n",
    "print(strides_func(Seri,slen=2,wlen=4))"
   ]
  },
  {
   "cell_type": "code",
   "execution_count": 38,
   "id": "e7b493fd",
   "metadata": {},
   "outputs": [
    {
     "data": {
      "text/html": [
       "<div>\n",
       "<style scoped>\n",
       "    .dataframe tbody tr th:only-of-type {\n",
       "        vertical-align: middle;\n",
       "    }\n",
       "\n",
       "    .dataframe tbody tr th {\n",
       "        vertical-align: top;\n",
       "    }\n",
       "\n",
       "    .dataframe thead th {\n",
       "        text-align: right;\n",
       "    }\n",
       "</style>\n",
       "<table border=\"1\" class=\"dataframe\">\n",
       "  <thead>\n",
       "    <tr style=\"text-align: right;\">\n",
       "      <th></th>\n",
       "      <th>a</th>\n",
       "      <th>b</th>\n",
       "      <th>c</th>\n",
       "      <th>d</th>\n",
       "      <th>e</th>\n",
       "    </tr>\n",
       "  </thead>\n",
       "  <tbody>\n",
       "    <tr>\n",
       "      <th>0</th>\n",
       "      <td>12</td>\n",
       "      <td>15</td>\n",
       "      <td>0</td>\n",
       "      <td>3</td>\n",
       "      <td>3</td>\n",
       "    </tr>\n",
       "    <tr>\n",
       "      <th>1</th>\n",
       "      <td>7</td>\n",
       "      <td>9</td>\n",
       "      <td>19</td>\n",
       "      <td>18</td>\n",
       "      <td>4</td>\n",
       "    </tr>\n",
       "    <tr>\n",
       "      <th>2</th>\n",
       "      <td>6</td>\n",
       "      <td>12</td>\n",
       "      <td>1</td>\n",
       "      <td>6</td>\n",
       "      <td>7</td>\n",
       "    </tr>\n",
       "    <tr>\n",
       "      <th>3</th>\n",
       "      <td>14</td>\n",
       "      <td>17</td>\n",
       "      <td>5</td>\n",
       "      <td>13</td>\n",
       "      <td>8</td>\n",
       "    </tr>\n",
       "    <tr>\n",
       "      <th>4</th>\n",
       "      <td>9</td>\n",
       "      <td>19</td>\n",
       "      <td>16</td>\n",
       "      <td>19</td>\n",
       "      <td>5</td>\n",
       "    </tr>\n",
       "  </tbody>\n",
       "</table>\n",
       "</div>"
      ],
      "text/plain": [
       "    a   b   c   d  e\n",
       "0  12  15   0   3  3\n",
       "1   7   9  19  18  4\n",
       "2   6  12   1   6  7\n",
       "3  14  17   5  13  8\n",
       "4   9  19  16  19  5"
      ]
     },
     "execution_count": 38,
     "metadata": {},
     "output_type": "execute_result"
    }
   ],
   "source": [
    "#2  -7.1)\n",
    "#Create a DataFrame, the name of columns is abcde respectively, the values ranges [0,20)\n",
    "np.random.seed(0)\n",
    "df7 = pd.DataFrame(np.random.randint(0,20,size=(5,5)), columns=list('abcde')) \n",
    "df7"
   ]
  },
  {
   "cell_type": "code",
   "execution_count": 39,
   "id": "fb45dd9c",
   "metadata": {},
   "outputs": [
    {
     "data": {
      "text/html": [
       "<div>\n",
       "<style scoped>\n",
       "    .dataframe tbody tr th:only-of-type {\n",
       "        vertical-align: middle;\n",
       "    }\n",
       "\n",
       "    .dataframe tbody tr th {\n",
       "        vertical-align: top;\n",
       "    }\n",
       "\n",
       "    .dataframe thead th {\n",
       "        text-align: right;\n",
       "    }\n",
       "</style>\n",
       "<table border=\"1\" class=\"dataframe\">\n",
       "  <thead>\n",
       "    <tr style=\"text-align: right;\">\n",
       "      <th></th>\n",
       "      <th>c</th>\n",
       "      <th>b</th>\n",
       "      <th>a</th>\n",
       "      <th>d</th>\n",
       "      <th>e</th>\n",
       "    </tr>\n",
       "  </thead>\n",
       "  <tbody>\n",
       "    <tr>\n",
       "      <th>0</th>\n",
       "      <td>0</td>\n",
       "      <td>15</td>\n",
       "      <td>12</td>\n",
       "      <td>3</td>\n",
       "      <td>3</td>\n",
       "    </tr>\n",
       "    <tr>\n",
       "      <th>1</th>\n",
       "      <td>19</td>\n",
       "      <td>9</td>\n",
       "      <td>7</td>\n",
       "      <td>18</td>\n",
       "      <td>4</td>\n",
       "    </tr>\n",
       "    <tr>\n",
       "      <th>2</th>\n",
       "      <td>1</td>\n",
       "      <td>12</td>\n",
       "      <td>6</td>\n",
       "      <td>6</td>\n",
       "      <td>7</td>\n",
       "    </tr>\n",
       "    <tr>\n",
       "      <th>3</th>\n",
       "      <td>5</td>\n",
       "      <td>17</td>\n",
       "      <td>14</td>\n",
       "      <td>13</td>\n",
       "      <td>8</td>\n",
       "    </tr>\n",
       "    <tr>\n",
       "      <th>4</th>\n",
       "      <td>16</td>\n",
       "      <td>19</td>\n",
       "      <td>9</td>\n",
       "      <td>19</td>\n",
       "      <td>5</td>\n",
       "    </tr>\n",
       "  </tbody>\n",
       "</table>\n",
       "</div>"
      ],
      "text/plain": [
       "    c   b   a   d  e\n",
       "0   0  15  12   3  3\n",
       "1  19   9   7  18  4\n",
       "2   1  12   6   6  7\n",
       "3   5  17  14  13  8\n",
       "4  16  19   9  19  5"
      ]
     },
     "execution_count": 39,
     "metadata": {},
     "output_type": "execute_result"
    }
   ],
   "source": [
    "#2  -7.2)\n",
    "#Interchange columns 'a' and 'c' \n",
    "col_list = list(df7)\n",
    "col_list[2],col_list[0]=col_list[0],col_list[2]\n",
    "df8 =df7[col_list]\n",
    "df8"
   ]
  },
  {
   "cell_type": "code",
   "execution_count": 40,
   "id": "4ab7365d",
   "metadata": {},
   "outputs": [
    {
     "data": {
      "text/html": [
       "<div>\n",
       "<style scoped>\n",
       "    .dataframe tbody tr th:only-of-type {\n",
       "        vertical-align: middle;\n",
       "    }\n",
       "\n",
       "    .dataframe tbody tr th {\n",
       "        vertical-align: top;\n",
       "    }\n",
       "\n",
       "    .dataframe thead th {\n",
       "        text-align: right;\n",
       "    }\n",
       "</style>\n",
       "<table border=\"1\" class=\"dataframe\">\n",
       "  <thead>\n",
       "    <tr style=\"text-align: right;\">\n",
       "      <th></th>\n",
       "      <th>d</th>\n",
       "      <th>b</th>\n",
       "      <th>c</th>\n",
       "      <th>a</th>\n",
       "      <th>e</th>\n",
       "    </tr>\n",
       "  </thead>\n",
       "  <tbody>\n",
       "    <tr>\n",
       "      <th>0</th>\n",
       "      <td>3</td>\n",
       "      <td>15</td>\n",
       "      <td>0</td>\n",
       "      <td>12</td>\n",
       "      <td>3</td>\n",
       "    </tr>\n",
       "    <tr>\n",
       "      <th>1</th>\n",
       "      <td>18</td>\n",
       "      <td>9</td>\n",
       "      <td>19</td>\n",
       "      <td>7</td>\n",
       "      <td>4</td>\n",
       "    </tr>\n",
       "    <tr>\n",
       "      <th>2</th>\n",
       "      <td>6</td>\n",
       "      <td>12</td>\n",
       "      <td>1</td>\n",
       "      <td>6</td>\n",
       "      <td>7</td>\n",
       "    </tr>\n",
       "    <tr>\n",
       "      <th>3</th>\n",
       "      <td>13</td>\n",
       "      <td>17</td>\n",
       "      <td>5</td>\n",
       "      <td>14</td>\n",
       "      <td>8</td>\n",
       "    </tr>\n",
       "    <tr>\n",
       "      <th>4</th>\n",
       "      <td>19</td>\n",
       "      <td>19</td>\n",
       "      <td>16</td>\n",
       "      <td>9</td>\n",
       "      <td>5</td>\n",
       "    </tr>\n",
       "  </tbody>\n",
       "</table>\n",
       "</div>"
      ],
      "text/plain": [
       "    d   b   c   a  e\n",
       "0   3  15   0  12  3\n",
       "1  18   9  19   7  4\n",
       "2   6  12   1   6  7\n",
       "3  13  17   5  14  8\n",
       "4  19  19  16   9  5"
      ]
     },
     "execution_count": 40,
     "metadata": {},
     "output_type": "execute_result"
    }
   ],
   "source": [
    "#2 - 7.3)\n",
    "#Create a generic function to interchange arbitrary two columns \n",
    "def swap_columns(df7, col1, col2):\n",
    "    col_list = list(df7.columns)\n",
    "    x ,y =col_list.index(col1) , col_list.index(col2)\n",
    "    col_list[y], col_list[x] = col_list[x], col_list[y]\n",
    "    df7 = df7[col_list]\n",
    "    return df7\n",
    "df2 = swap_columns(df7, 'd', 'a')\n",
    "df2"
   ]
  },
  {
   "cell_type": "code",
   "execution_count": 41,
   "id": "dbd4e8eb",
   "metadata": {},
   "outputs": [
    {
     "data": {
      "text/html": [
       "<div>\n",
       "<style scoped>\n",
       "    .dataframe tbody tr th:only-of-type {\n",
       "        vertical-align: middle;\n",
       "    }\n",
       "\n",
       "    .dataframe tbody tr th {\n",
       "        vertical-align: top;\n",
       "    }\n",
       "\n",
       "    .dataframe thead th {\n",
       "        text-align: right;\n",
       "    }\n",
       "</style>\n",
       "<table border=\"1\" class=\"dataframe\">\n",
       "  <thead>\n",
       "    <tr style=\"text-align: right;\">\n",
       "      <th></th>\n",
       "      <th>e</th>\n",
       "      <th>d</th>\n",
       "      <th>c</th>\n",
       "      <th>b</th>\n",
       "      <th>a</th>\n",
       "    </tr>\n",
       "  </thead>\n",
       "  <tbody>\n",
       "    <tr>\n",
       "      <th>0</th>\n",
       "      <td>3</td>\n",
       "      <td>3</td>\n",
       "      <td>0</td>\n",
       "      <td>15</td>\n",
       "      <td>12</td>\n",
       "    </tr>\n",
       "    <tr>\n",
       "      <th>1</th>\n",
       "      <td>4</td>\n",
       "      <td>18</td>\n",
       "      <td>19</td>\n",
       "      <td>9</td>\n",
       "      <td>7</td>\n",
       "    </tr>\n",
       "    <tr>\n",
       "      <th>2</th>\n",
       "      <td>7</td>\n",
       "      <td>6</td>\n",
       "      <td>1</td>\n",
       "      <td>12</td>\n",
       "      <td>6</td>\n",
       "    </tr>\n",
       "    <tr>\n",
       "      <th>3</th>\n",
       "      <td>8</td>\n",
       "      <td>13</td>\n",
       "      <td>5</td>\n",
       "      <td>17</td>\n",
       "      <td>14</td>\n",
       "    </tr>\n",
       "    <tr>\n",
       "      <th>4</th>\n",
       "      <td>5</td>\n",
       "      <td>19</td>\n",
       "      <td>16</td>\n",
       "      <td>19</td>\n",
       "      <td>9</td>\n",
       "    </tr>\n",
       "  </tbody>\n",
       "</table>\n",
       "</div>"
      ],
      "text/plain": [
       "   e   d   c   b   a\n",
       "0  3   3   0  15  12\n",
       "1  4  18  19   9   7\n",
       "2  7   6   1  12   6\n",
       "3  8  13   5  17  14\n",
       "4  5  19  16  19   9"
      ]
     },
     "execution_count": 41,
     "metadata": {},
     "output_type": "execute_result"
    }
   ],
   "source": [
    "#2  -7.4)\n",
    "#Sort the columns in reverse alphabetical order, that is column 'e' first through column 'a' last.\n",
    "reverse=df7.columns[::-1]\n",
    "df7[reverse]"
   ]
  },
  {
   "cell_type": "code",
   "execution_count": 42,
   "id": "023cd1bf",
   "metadata": {},
   "outputs": [
    {
     "name": "stdout",
     "output_type": "stream",
     "text": [
      "The desired Output is: 2000-01-01    9\n",
      "2000-01-08    9\n",
      "2000-01-15    4\n",
      "2000-01-22    8\n",
      "2000-01-29    8\n",
      "2000-02-05    1\n",
      "2000-02-12    5\n",
      "2000-02-19    3\n",
      "2000-02-26    6\n",
      "2000-03-04    3\n",
      "Freq: W-SAT, dtype: int32\n"
     ]
    }
   ],
   "source": [
    "#2  -8) \n",
    "#Create a TimeSeries starting ‘2021-01-01’ and 10 weekends (Saturdays) after that having random numbers as values. \n",
    "np.random.seed(100)\n",
    "Sats = pd.Series(np.random.randint(1,10,10), pd.date_range('2000-01-01', periods=10, freq='W-SAT'))\n",
    "print('The desired Output is:',Sats)"
   ]
  },
  {
   "cell_type": "code",
   "execution_count": 43,
   "id": "023d3b10",
   "metadata": {},
   "outputs": [
    {
     "name": "stdout",
     "output_type": "stream",
     "text": [
      "2021-01-01     1.0\n",
      "2021-01-03    10.0\n",
      "2021-01-06     3.0\n",
      "2021-01-08     NaN\n",
      "dtype: float64\n"
     ]
    }
   ],
   "source": [
    "#2  -9.1)\n",
    "#Create a Pandas time series with missing dates (from 2021-01-01 to 2021-01-08) and values, shown as below\n",
    "np.random.seed(10)\n",
    "Miss_Dates = pd.Series([1.0, 10.0,3.0,np.nan],index= pd.to_datetime(['01/01/2021', '01/03/2021','01/06/2021','01/08/2021']))\n",
    "print(Miss_Dates)"
   ]
  },
  {
   "cell_type": "code",
   "execution_count": 48,
   "id": "caae41ba",
   "metadata": {},
   "outputs": [
    {
     "name": "stdout",
     "output_type": "stream",
     "text": [
      "2021-01-01     1.0\n",
      "2021-01-03    10.0\n",
      "2021-01-06     3.0\n",
      "2021-01-08     3.0\n",
      "dtype: float64\n",
      "\n",
      "All Filled Values are\n",
      " 2021-01-01     1.0\n",
      "2021-01-02     1.0\n",
      "2021-01-03    10.0\n",
      "2021-01-04    10.0\n",
      "2021-01-05    10.0\n",
      "2021-01-06     3.0\n",
      "2021-01-07     3.0\n",
      "2021-01-08     3.0\n",
      "Freq: D, dtype: float64\n"
     ]
    }
   ],
   "source": [
    "#2  -9.2)\n",
    "#Make all missing dates appear and fill up with value from previous date, shown as below.  \n",
    "print(Miss_Dates.fillna(method='ffill'))\n",
    "\n",
    "#Make all missing dates appear and fill up with value from previous date, shown as below.  \n",
    "Fill_all=Miss_Dates.resample('D').ffill().ffill()\n",
    "print('\\nAll Filled Values are\\n',Fill_all)"
   ]
  },
  {
   "cell_type": "code",
   "execution_count": 49,
   "id": "e424c055",
   "metadata": {},
   "outputs": [
    {
     "data": {
      "text/html": [
       "<div>\n",
       "<style scoped>\n",
       "    .dataframe tbody tr th:only-of-type {\n",
       "        vertical-align: middle;\n",
       "    }\n",
       "\n",
       "    .dataframe tbody tr th {\n",
       "        vertical-align: top;\n",
       "    }\n",
       "\n",
       "    .dataframe thead th {\n",
       "        text-align: right;\n",
       "    }\n",
       "</style>\n",
       "<table border=\"1\" class=\"dataframe\">\n",
       "  <thead>\n",
       "    <tr style=\"text-align: right;\">\n",
       "      <th></th>\n",
       "      <th>Fruit</th>\n",
       "      <th>Taste</th>\n",
       "      <th>Price</th>\n",
       "    </tr>\n",
       "  </thead>\n",
       "  <tbody>\n",
       "    <tr>\n",
       "      <th>0</th>\n",
       "      <td>apple</td>\n",
       "      <td>0.543405</td>\n",
       "      <td>9</td>\n",
       "    </tr>\n",
       "    <tr>\n",
       "      <th>1</th>\n",
       "      <td>banana</td>\n",
       "      <td>0.278369</td>\n",
       "      <td>5</td>\n",
       "    </tr>\n",
       "    <tr>\n",
       "      <th>2</th>\n",
       "      <td>orange</td>\n",
       "      <td>0.424518</td>\n",
       "      <td>12</td>\n",
       "    </tr>\n",
       "    <tr>\n",
       "      <th>3</th>\n",
       "      <td>apple</td>\n",
       "      <td>0.844776</td>\n",
       "      <td>13</td>\n",
       "    </tr>\n",
       "    <tr>\n",
       "      <th>4</th>\n",
       "      <td>banana</td>\n",
       "      <td>0.004719</td>\n",
       "      <td>11</td>\n",
       "    </tr>\n",
       "    <tr>\n",
       "      <th>5</th>\n",
       "      <td>orange</td>\n",
       "      <td>0.121569</td>\n",
       "      <td>1</td>\n",
       "    </tr>\n",
       "    <tr>\n",
       "      <th>6</th>\n",
       "      <td>apple</td>\n",
       "      <td>0.670749</td>\n",
       "      <td>12</td>\n",
       "    </tr>\n",
       "    <tr>\n",
       "      <th>7</th>\n",
       "      <td>banana</td>\n",
       "      <td>0.825853</td>\n",
       "      <td>10</td>\n",
       "    </tr>\n",
       "    <tr>\n",
       "      <th>8</th>\n",
       "      <td>orange</td>\n",
       "      <td>0.136707</td>\n",
       "      <td>14</td>\n",
       "    </tr>\n",
       "  </tbody>\n",
       "</table>\n",
       "</div>"
      ],
      "text/plain": [
       "    Fruit     Taste  Price\n",
       "0   apple  0.543405      9\n",
       "1  banana  0.278369      5\n",
       "2  orange  0.424518     12\n",
       "3   apple  0.844776     13\n",
       "4  banana  0.004719     11\n",
       "5  orange  0.121569      1\n",
       "6   apple  0.670749     12\n",
       "7  banana  0.825853     10\n",
       "8  orange  0.136707     14"
      ]
     },
     "execution_count": 49,
     "metadata": {},
     "output_type": "execute_result"
    }
   ],
   "source": [
    "#2 - 10.1) \n",
    "#Create a DataFrame ‘df’: the indexes are integer from 0 to 8 (9 rows); the columns are ‘fruit’, ‘taste’, ‘price’; the items of ‘fruit’ are: apple, banana, orange, respectively and repeating 3 times. The ‘taste’ ranges [0,1). The price is integer and ranges [1, 15). The seed of random values is set as 100. \n",
    "\n",
    "np.random.seed(100)\n",
    "fruit = pd.Series(['apple', 'banana', 'orange']*3 , index = np.arange(0,9))\n",
    "taste = pd.Series(np.random.rand(9))\n",
    "price = pd.Series(np.random.randint(1,15,size=[9]))\n",
    "#print(fruit,taste,price)\n",
    "df10 = pd.DataFrame({'Fruit':fruit, 'Taste':taste ,'Price': price})\n",
    "df10"
   ]
  },
  {
   "cell_type": "code",
   "execution_count": 50,
   "id": "9869f680",
   "metadata": {},
   "outputs": [
    {
     "data": {
      "text/plain": [
       "1    0.278369\n",
       "Name: Taste, dtype: float64"
      ]
     },
     "execution_count": 50,
     "metadata": {},
     "output_type": "execute_result"
    }
   ],
   "source": [
    "#2  -10.2) \n",
    "#Find the second largest value of 'taste' for 'banana' (Hint: you can use groupby)   \n",
    "df10.groupby('Fruit').get_group('banana').sort_values('Taste')[1:2]['Taste']"
   ]
  },
  {
   "cell_type": "code",
   "execution_count": 51,
   "id": "73af5014",
   "metadata": {},
   "outputs": [
    {
     "data": {
      "text/html": [
       "<div>\n",
       "<style scoped>\n",
       "    .dataframe tbody tr th:only-of-type {\n",
       "        vertical-align: middle;\n",
       "    }\n",
       "\n",
       "    .dataframe tbody tr th {\n",
       "        vertical-align: top;\n",
       "    }\n",
       "\n",
       "    .dataframe thead th {\n",
       "        text-align: right;\n",
       "    }\n",
       "</style>\n",
       "<table border=\"1\" class=\"dataframe\">\n",
       "  <thead>\n",
       "    <tr style=\"text-align: right;\">\n",
       "      <th></th>\n",
       "      <th>Fruit</th>\n",
       "      <th>Price</th>\n",
       "    </tr>\n",
       "  </thead>\n",
       "  <tbody>\n",
       "    <tr>\n",
       "      <th>0</th>\n",
       "      <td>apple</td>\n",
       "      <td>11.333333</td>\n",
       "    </tr>\n",
       "    <tr>\n",
       "      <th>1</th>\n",
       "      <td>banana</td>\n",
       "      <td>8.666667</td>\n",
       "    </tr>\n",
       "    <tr>\n",
       "      <th>2</th>\n",
       "      <td>orange</td>\n",
       "      <td>9.000000</td>\n",
       "    </tr>\n",
       "  </tbody>\n",
       "</table>\n",
       "</div>"
      ],
      "text/plain": [
       "    Fruit      Price\n",
       "0   apple  11.333333\n",
       "1  banana   8.666667\n",
       "2  orange   9.000000"
      ]
     },
     "execution_count": 51,
     "metadata": {},
     "output_type": "execute_result"
    }
   ],
   "source": [
    "#2 -10.3)\n",
    "#Compute the mean price of every fruit, while keeping the fruit as another column instead of an index.  \n",
    "df10.groupby('Fruit').mean('price')['Price'].reset_index()"
   ]
  }
 ],
 "metadata": {
  "kernelspec": {
   "display_name": "Python 3 (ipykernel)",
   "language": "python",
   "name": "python3"
  },
  "language_info": {
   "codemirror_mode": {
    "name": "ipython",
    "version": 3
   },
   "file_extension": ".py",
   "mimetype": "text/x-python",
   "name": "python",
   "nbconvert_exporter": "python",
   "pygments_lexer": "ipython3",
   "version": "3.9.12"
  }
 },
 "nbformat": 4,
 "nbformat_minor": 5
}
